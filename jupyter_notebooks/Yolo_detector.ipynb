{
  "nbformat": 4,
  "nbformat_minor": 0,
  "metadata": {
    "colab": {
      "name": "Yolo.ipynb",
      "provenance": [],
      "collapsed_sections": [],
      "toc_visible": true
    },
    "kernelspec": {
      "name": "python3",
      "display_name": "Python 3"
    },
    "accelerator": "GPU"
  },
  "cells": [
    {
      "cell_type": "code",
      "metadata": {
        "id": "3474RUSMz5wJ",
        "colab_type": "code",
        "colab": {}
      },
      "source": [
        "from google.colab import drive\n",
        "drive.mount('/content/drive')"
      ],
      "execution_count": 0,
      "outputs": []
    },
    {
      "cell_type": "markdown",
      "metadata": {
        "id": "oaQcL7iChstI",
        "colab_type": "text"
      },
      "source": [
        "# Loading the dataset from drive and configuring cudnn\n"
      ]
    },
    {
      "cell_type": "code",
      "metadata": {
        "id": "Kt_CBGBchong",
        "colab_type": "code",
        "colab": {}
      },
      "source": [
        "#Uncomment to unzip in colab (first time)\n",
        "!cp \"/content/drive/My Drive/dress_dataset_v2.zip\" \"dress_dataset_v2.zip\"\n",
        "!unzip -q dress_dataset_v2.zip\n",
        "!rm dress_dataset_v2.zip\n",
        "%cd dress_dataset_v2\n",
        "!rm -r kimono\n",
        "%cd ..\n",
        "#cudNN\n",
        "!tar -xzvf /content/drive/My\\ Drive/cudnn-10.1-linux-x64-v7.6.5.32.tgz -C /usr/local/\n",
        "!chmod a+r /usr/local/cuda/include/cudnn.h"
      ],
      "execution_count": 0,
      "outputs": []
    },
    {
      "cell_type": "markdown",
      "metadata": {
        "id": "nSE5RpnpiIrc",
        "colab_type": "text"
      },
      "source": [
        "# Loading the dataset in YOLO format"
      ]
    },
    {
      "cell_type": "code",
      "metadata": {
        "id": "l62-hLcnMf99",
        "colab_type": "code",
        "colab": {}
      },
      "source": [
        "#import libraries\n",
        "import numpy as np\n",
        "import cv2\n",
        "import os\n",
        "import math\n",
        "import re"
      ],
      "execution_count": 0,
      "outputs": []
    },
    {
      "cell_type": "code",
      "metadata": {
        "id": "5tNaFO9nMpLX",
        "colab_type": "code",
        "colab": {}
      },
      "source": [
        "#Function to load the data and bounding boxes\n",
        "def load_dataset(path, classes) :\n",
        "    label_enc = 0;\n",
        "    for cls in classes :\n",
        "        subclasses = os.listdir(path + cls + \"/\")\n",
        "        for subclass in subclasses :\n",
        "            if subclass == 'bboxes.txt' :\n",
        "            # if not os.path.isdir(path + cls + \"/\" + subclass) :\n",
        "                f = open(path + cls + \"/\" + \"bboxes.txt\", \"r\")\n",
        "                img_path_file = open(path + cls + \"/\" + \"images.txt\", \"w+\")\n",
        "\n",
        "                for line in f :\n",
        "                    coordinates = []\n",
        "                    c = line[-16:]\n",
        "                    try :\n",
        "                        #Load the Images\n",
        "                        img_path = path + cls + \"/\" + line[:-16]\n",
        "                        img_path = img_path.strip()\n",
        "                        img = cv2.imread(img_path)\n",
        "                        # if img is not None :\n",
        "                          \n",
        "\n",
        "                        y_ = img.shape[0]\n",
        "                        x_ = img.shape[1]\n",
        "\n",
        "                        x_scale = 224/x_\n",
        "                        y_scale = 224/y_\n",
        "\n",
        "                        #Load bounding boxes\n",
        "                        for i in range(4) :\n",
        "                            for coordinate in c[i*4:i*4+4].split() :\n",
        "                                if coordinate.isdigit() :\n",
        "                                    coordinates.append(int(coordinate))\n",
        "\n",
        "                        #Write the path to the image text file\n",
        "                        img_path_file.write('{}\\n'.format(img_path))\n",
        "      \n",
        "                        #Write bounding boxes and labels to text file\n",
        "                        img_bbox_filename = re.sub('jpg$', 'txt',img_path)\n",
        "                        img_file = open(img_bbox_filename, \"w+\")\n",
        "\n",
        "                        #Convert to yolo format\n",
        "                        x = ((coordinates[0] + coordinates[2])/2)/x_\n",
        "                        width = (coordinates[2] - coordinates[0])/x_\n",
        "                        y = ((coordinates[1] + coordinates[3])/2)/y_\n",
        "                        height = (coordinates[3] - coordinates[1])/y_\n",
        "                        #Write to the file\n",
        "                        img_file.write('{} {} {} {} {}\\n'.format(label_enc, x, y, width, height))\n",
        "                        img_file.close()\n",
        "                    except Exception as e :\n",
        "                        pass\n",
        "\n",
        "                f.close()\n",
        "                img_path_file.close()\n",
        "        label_enc += 1\n",
        "    return\n"
      ],
      "execution_count": 0,
      "outputs": []
    },
    {
      "cell_type": "code",
      "metadata": {
        "id": "7yGASeLKPcf4",
        "colab_type": "code",
        "colab": {}
      },
      "source": [
        "#Load the dataset\n",
        "DATADIR = \"/content/dress_dataset_v2/\"\n",
        "classes = os.listdir(\"/content/dress_dataset_v2\")\n",
        "load_dataset(DATADIR, classes)\n"
      ],
      "execution_count": 0,
      "outputs": []
    },
    {
      "cell_type": "markdown",
      "metadata": {
        "id": "zZPwqA_uiOEJ",
        "colab_type": "text"
      },
      "source": [
        "# Compiling darknet"
      ]
    },
    {
      "cell_type": "code",
      "metadata": {
        "id": "uoxdS7A1kOgU",
        "colab_type": "code",
        "colab": {}
      },
      "source": [
        "# !rm -r \"/content/darknet\"\n",
        "#Setting up yolo\n",
        "!git clone https://github.com/AJ-RR/darknet.git\n",
        "%cd darknet\n",
        "!make\n",
        "%cd .."
      ],
      "execution_count": 0,
      "outputs": []
    },
    {
      "cell_type": "markdown",
      "metadata": {
        "id": "yomPavlaiVPA",
        "colab_type": "text"
      },
      "source": [
        "# Balancing the dataset"
      ]
    },
    {
      "cell_type": "code",
      "metadata": {
        "id": "VxHmUvPpRaC8",
        "colab_type": "code",
        "colab": {}
      },
      "source": [
        "#function to balance the dataset\n",
        "def balance_dataset(path, classes) :\n",
        "  minimum = 9999999999\n",
        "  for cls in classes :\n",
        "    # subclasses = os.listdir(path + cls + \"/\")\n",
        "    f = open(path + cls + \"/\" + \"images.txt\")\n",
        "    counter = 0\n",
        "    contents = f.read()\n",
        "    lines = contents.split(\"\\n\")\n",
        "    for i in lines :\n",
        "      if i :\n",
        "        counter += 1\n",
        "    if counter <= minimum :\n",
        "      minimum = counter\n",
        "    counter = 0\n",
        "    f.close()\n",
        "  count = 0\n",
        "  lines = []\n",
        "  # final_file = open(\"imgs.txt\", \"w+\")\n",
        "  for cls in classes :\n",
        "    # subclasses = os.listdir(path + cls + \"/\")\n",
        "    final_file = open(path + cls +\"/\" + \"processed_images.txt\", \"w+\")\n",
        "    with open(path + cls + \"/\" + \"images.txt\") as f :\n",
        "      lines = random.sample(f.readlines(), minimum)\n",
        "      for line in lines :\n",
        "        final_file.write('{}'.format(line))\n",
        "        count += 1\n",
        "    final_file.close()\n",
        "  print(\"Total number of images per class = \", count/5)\n",
        "  \n",
        "  return count/5"
      ],
      "execution_count": 0,
      "outputs": []
    },
    {
      "cell_type": "code",
      "metadata": {
        "id": "wSAdw_ZFJvmb",
        "colab_type": "code",
        "colab": {}
      },
      "source": [
        "import random\n",
        "total_perclass = balance_dataset(\"/content/dress_dataset_v2/\", os.listdir(\"/content/dress_dataset_v2\"))\n"
      ],
      "execution_count": 0,
      "outputs": []
    },
    {
      "cell_type": "code",
      "metadata": {
        "id": "W3rp76omK95u",
        "colab_type": "code",
        "colab": {}
      },
      "source": [
        "#function to split the dataset\n",
        "def split_train_test(filename, total_imgs, test_ratio) :\n",
        "  test_indices = random.sample(range(0, total_imgs), round(total_imgs*test_ratio))\n",
        "  with open(filename, \"r\") as f :\n",
        "    all_lines = f.readlines()\n",
        "    test_lines = [all_lines[i] for i in test_indices] \n",
        "    all_lines = [i for j, i in enumerate(all_lines) if j not in test_indices]\n",
        "    train_file = open(\"/content/darknet/data/dress_train.txt\", \"a+\")\n",
        "    for line in all_lines :\n",
        "      if line != '\\n' :\n",
        "        train_file.write('{}'.format(line))\n",
        "    train_file.close()\n",
        "    test_file = open(\"/content/darknet/data/dress_test.txt\", \"a+\")\n",
        "    for line in test_lines :\n",
        "      if line != '\\n' :\n",
        "        test_file.write('{}'.format(line))\n",
        "    test_file.close()\n",
        "  return \n",
        "\n",
        "def split_dataset(total_perclass, test_ratio, classes) :\n",
        "  for cls in classes :\n",
        "    split_train_test(\"/content/dress_dataset_v2/\" + cls + \"/processed_images.txt\", total_perclass, test_ratio)"
      ],
      "execution_count": 0,
      "outputs": []
    },
    {
      "cell_type": "code",
      "metadata": {
        "id": "KLvoCBGySVup",
        "colab_type": "code",
        "colab": {}
      },
      "source": [
        "total_perclass = int(total_perclass)\n",
        "split_dataset(total_perclass, 0.3, classes)  "
      ],
      "execution_count": 0,
      "outputs": []
    },
    {
      "cell_type": "code",
      "metadata": {
        "id": "3_gl_tb1KcHJ",
        "colab_type": "code",
        "colab": {}
      },
      "source": [
        "# # #Get pre-trained weights\n",
        "# !cp \"/content/drive/My Drive/yolo/yolo-tiny-backup/dress_best.weights\" \"/content/darknet/dress_best.weights\"\n",
        "# !cp \"/content/dress.names\" \"/content/darknet/data/dress.names\"\n",
        "!cp \"/content/drive/My Drive/yolov3-tiny.weights\" \"/content/darknet/yolov3-tiny.weights\"\n",
        "%cd /content/darknet\n",
        "!./darknet partial cfg/dress.cfg yolov3-tiny.weights yolov3-tiny.conv.15 15"
      ],
      "execution_count": 0,
      "outputs": []
    },
    {
      "cell_type": "markdown",
      "metadata": {
        "id": "E6CLEUnuguD2",
        "colab_type": "text"
      },
      "source": [
        "# Calculate Anchors"
      ]
    },
    {
      "cell_type": "code",
      "metadata": {
        "id": "H719EwxdCH0s",
        "colab_type": "code",
        "colab": {}
      },
      "source": [
        "# #Calculating anchors\n",
        "# %cd /content/darknet\n",
        "# !./darknet detector calc_anchors data/dress.data -num_of_clusters 6 -width 416 -height 416 -show"
      ],
      "execution_count": 0,
      "outputs": []
    },
    {
      "cell_type": "markdown",
      "metadata": {
        "id": "_aw0KDgagxw4",
        "colab_type": "text"
      },
      "source": [
        "# Train the model"
      ]
    },
    {
      "cell_type": "code",
      "metadata": {
        "id": "_apPekH4SjvO",
        "colab_type": "code",
        "colab": {}
      },
      "source": [
        "%%capture capt\n",
        "!./darknet detector train data/dress.data cfg/dress.cfg -dont_show -map > yolo_tiny.log              "
      ],
      "execution_count": 0,
      "outputs": []
    },
    {
      "cell_type": "markdown",
      "metadata": {
        "id": "43yDmq_dCC9L",
        "colab_type": "text"
      },
      "source": [
        "# Test the model"
      ]
    },
    {
      "cell_type": "code",
      "metadata": {
        "id": "MvvZJ04Erso0",
        "colab_type": "code",
        "colab": {}
      },
      "source": [
        "%cd /content/darknet/\n",
        "!./darknet detector map data/dress.data cfg/dress.cfg dress_best.weights \n"
      ],
      "execution_count": 0,
      "outputs": []
    },
    {
      "cell_type": "code",
      "metadata": {
        "id": "uH2IKDFQumvf",
        "colab_type": "code",
        "colab": {}
      },
      "source": [
        ""
      ],
      "execution_count": 0,
      "outputs": []
    },
    {
      "cell_type": "code",
      "metadata": {
        "id": "5iRkTF6Er4_9",
        "colab_type": "code",
        "colab": {}
      },
      "source": [
        ""
      ],
      "execution_count": 0,
      "outputs": []
    },
    {
      "cell_type": "code",
      "metadata": {
        "id": "fYea0sfQsxUi",
        "colab_type": "code",
        "colab": {}
      },
      "source": [
        " "
      ],
      "execution_count": 0,
      "outputs": []
    }
  ]
}