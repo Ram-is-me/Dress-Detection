{
 "cells": [
  {
   "cell_type": "code",
   "execution_count": 1,
   "metadata": {},
   "outputs": [],
   "source": [
    "import numpy as np\n",
    "import cv2\n",
    "import os\n",
    "import math\n",
    "from numpy import save"
   ]
  },
  {
   "cell_type": "code",
   "execution_count": 2,
   "metadata": {},
   "outputs": [],
   "source": [
    "def load_dataset(path, classes) :\n",
    "    images = []\n",
    "    labels = []\n",
    "    bboxes = []\n",
    "    label_enc = 0;\n",
    "    for cls in classes :\n",
    "        subclasses = os.listdir(path + cls + \"/\")\n",
    "        for subclass in subclasses :\n",
    "            if not os.path.isdir(path + cls + \"/\" + subclass) :\n",
    "                f = open(path + cls + \"/\" + \"bboxes.txt\", \"r\")\n",
    "                for line in f :\n",
    "                    coordinates = []\n",
    "                    c = line[-16:]\n",
    "                    try :\n",
    "                        #Load the Images\n",
    "                        img_path = path + cls + \"/\" + line[:-16]\n",
    "                        img_path = img_path.strip()\n",
    "                        img = cv2.imread(img_path)\n",
    "                        \n",
    "                        y_ = img.shape[0]\n",
    "                        x_ = img.shape[1]\n",
    "                        \n",
    "                        x_scale = 224/x_\n",
    "                        y_scale = 224/y_\n",
    "                        \n",
    "                        img = cv2.resize(img, (224, 224))\n",
    "                        images.append(img)\n",
    "                        labels.append(label_enc)\n",
    "\n",
    "                        #Load bounding boxes\n",
    "                        for i in range(4) :\n",
    "                            for coordinate in c[i*4:i*4+4].split() :\n",
    "                                if coordinate.isdigit() :\n",
    "                                    coordinates.append(int(coordinate))\n",
    "                        coordinates[0] = round(coordinates[0]*x_scale)\n",
    "                        coordinates[1] = round(coordinates[1]*y_scale)\n",
    "                        coordinates[2] = round(coordinates[2]*x_scale)\n",
    "                        coordinates[3] = round(coordinates[3]*y_scale)\n",
    "                        bboxes.append(coordinates)\n",
    "                    except Exception as e :\n",
    "                        pass\n",
    "\n",
    "                f.close()\n",
    "        label_enc += 1\n",
    "    return np.array(images), np.array(bboxes), np.array(labels)"
   ]
  },
  {
   "cell_type": "code",
   "execution_count": 3,
   "metadata": {},
   "outputs": [
    {
     "name": "stdout",
     "output_type": "stream",
     "text": [
      "------------------------Loaded the Images--------------------------\n",
      "image_datset shape :  (33602, 224, 224, 3)\n",
      "bboxes shape :  (33602, 4)\n",
      "labels shape :  (33602,)\n"
     ]
    }
   ],
   "source": [
    "DATADIR = \"/home/ajayrr/Semester6/vr/projects/final_project/dress_dataset/\"\n",
    "classes = os.listdir(\"/home/ajayrr/Semester6/vr/projects/final_project/dress_dataset\")\n",
    "img_data, bboxes, labels = load_dataset(DATADIR, classes)\n",
    "print(\"------------------------Loaded the Images--------------------------\")\n",
    "print(\"image_datset shape : \", img_data.shape)\n",
    "print(\"bboxes shape : \", bboxes.shape)\n",
    "print(\"labels shape : \", labels.shape)"
   ]
  },
  {
   "cell_type": "code",
   "execution_count": 4,
   "metadata": {},
   "outputs": [],
   "source": [
    "#Save the data\n",
    "save_path = \"/home/ajayrr/Semester6/vr/projects/final_project/\"\n",
    "save(save_path + \"images.npy\", img_data)\n",
    "save(save_path + \"bboxes.npy\", bboxes)\n",
    "save(save_path + \"labels.npy\", labels)"
   ]
  },
  {
   "cell_type": "code",
   "execution_count": null,
   "metadata": {},
   "outputs": [],
   "source": []
  },
  {
   "cell_type": "code",
   "execution_count": null,
   "metadata": {},
   "outputs": [],
   "source": []
  }
 ],
 "metadata": {
  "kernelspec": {
   "display_name": "Python 3",
   "language": "python",
   "name": "python3"
  },
  "language_info": {
   "codemirror_mode": {
    "name": "ipython",
    "version": 3
   },
   "file_extension": ".py",
   "mimetype": "text/x-python",
   "name": "python",
   "nbconvert_exporter": "python",
   "pygments_lexer": "ipython3",
   "version": "3.6.9"
  }
 },
 "nbformat": 4,
 "nbformat_minor": 2
}
